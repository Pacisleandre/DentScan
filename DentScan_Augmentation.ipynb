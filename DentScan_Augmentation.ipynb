{
 "cells": [
  {
   "cell_type": "code",
   "execution_count": null,
   "metadata": {
    "colab": {
     "base_uri": "https://localhost:8080/"
    },
    "id": "9xMU-YITwzBt",
    "outputId": "12975212-dca4-4527-d245-8426cc0e2ed0"
   },
   "outputs": [
    {
     "name": "stdout",
     "output_type": "stream",
     "text": [
      "Error parsing file /content/drive/MyDrive/est/xml/2.xml: mismatched tag: line 1, column 323\n",
      "[{'filename': '18.jpg', 'width': 448, 'height': 448, 'objects': [{'name': 'coin_1', 'coordinates': [81, 287, 81, 287]}, {'name': 'coin_2', 'coordinates': [28, 196, 28, 196]}, {'name': 'coin_3', 'coordinates': [367, 279, 367, 279]}, {'name': 'coin_4', 'coordinates': [423, 194, 423, 194]}]}, {'filename': '1.jpg', 'width': 448, 'height': 448, 'objects': [{'name': 'coin_1', 'coordinates': [89, 167, 89, 167]}, {'name': 'coin_2', 'coordinates': [93, 93, 93, 93]}, {'name': 'coin_3', 'coordinates': [346, 171, 346, 171]}, {'name': 'coin_4', 'coordinates': [336, 89, 336, 89]}]}, {'filename': '11.jpg', 'width': 448, 'height': 448, 'objects': [{'name': 'coin_1', 'coordinates': [69, 340, 69, 340]}, {'name': 'coin_2', 'coordinates': [31, 213, 31, 213]}, {'name': 'coin_3', 'coordinates': [390, 270, 390, 270]}, {'name': 'coin_4', 'coordinates': [434, 162, 434, 162]}]}, {'filename': '10.jpg', 'width': 448, 'height': 448, 'objects': [{'name': 'coin_1', 'coordinates': [78, 341, 78, 341]}, {'name': 'coin_2', 'coordinates': [20, 186, 20, 186]}, {'name': 'coin_3', 'coordinates': [392, 286, 392, 286]}, {'name': 'coin_4', 'coordinates': [440, 170, 440, 170]}]}, {'filename': '15.jpg', 'width': 448, 'height': 448, 'objects': [{'name': 'coin_1', 'coordinates': [87, 256, 87, 256]}, {'name': 'coin_2', 'coordinates': [35, 158, 35, 158]}, {'name': 'coin_3', 'coordinates': [372, 251, 372, 251]}, {'name': 'coin_4', 'coordinates': [420, 144, 420, 144]}]}, {'filename': '13.jpg', 'width': 448, 'height': 448, 'objects': [{'name': 'coin_1', 'coordinates': [74, 277, 74, 277]}, {'name': 'coin_2', 'coordinates': [26, 163, 26, 163]}, {'name': 'coin_3', 'coordinates': [390, 241, 390, 241]}, {'name': 'coin_4', 'coordinates': [445, 131, 445, 131]}]}, {'filename': '14.jpg', 'width': 448, 'height': 448, 'objects': [{'name': 'coin_1', 'coordinates': [100, 284, 100, 284]}, {'name': 'coin_2', 'coordinates': [42, 169, 42, 169]}, {'name': 'coin_3', 'coordinates': [401, 250, 401, 250]}, {'name': 'coin_4', 'coordinates': [440, 143, 440, 143]}]}, {'filename': '16.jpg', 'width': 448, 'height': 448, 'objects': [{'name': 'coin_1', 'coordinates': [101, 249, 101, 249]}, {'name': 'coin_2', 'coordinates': [39, 147, 39, 147]}, {'name': 'coin_3', 'coordinates': [392, 221, 392, 221]}, {'name': 'coin_4', 'coordinates': [441, 109, 441, 109]}]}, {'filename': '0.jpg', 'width': 448, 'height': 448, 'objects': [{'name': 'coin_1', 'coordinates': [77, 73, 77, 73]}, {'name': 'coin_2', 'coordinates': [17, 245, 17, 245]}, {'name': 'coin_3', 'coordinates': [373, 112, 373, 112]}, {'name': 'coin_4', 'coordinates': [428, 236, 428, 236]}]}, {'filename': '12.jpg', 'width': 448, 'height': 448, 'objects': [{'name': 'coin_1', 'coordinates': [72, 338, 72, 338]}, {'name': 'coin_2', 'coordinates': [32, 209, 32, 209]}, {'name': 'coin_3', 'coordinates': [393, 267, 393, 267]}, {'name': 'coin_4', 'coordinates': [441, 153, 441, 153]}]}, {'filename': '19.jpg', 'width': 448, 'height': 448, 'objects': [{'name': 'coin_1', 'coordinates': [72, 314, 72, 314]}, {'name': 'coin_2', 'coordinates': [17, 233, 17, 233]}, {'name': 'coin_3', 'coordinates': [349, 316, 349, 316]}, {'name': 'coin_4', 'coordinates': [418, 227, 418, 227]}]}, {'filename': '17.jpg', 'width': 448, 'height': 448, 'objects': [{'name': 'coin_1', 'coordinates': [66, 262, 66, 262]}, {'name': 'coin_2', 'coordinates': [19, 171, 19, 171]}, {'name': 'coin_3', 'coordinates': [354, 253, 354, 253]}, {'name': 'coin_4', 'coordinates': [399, 191, 399, 191]}]}, {'filename': '24.jpg', 'width': 448, 'height': 448, 'objects': [{'name': 'coin_1', 'coordinates': [97, 355, 97, 355]}, {'name': 'coin_2', 'coordinates': [19, 207, 19, 207]}, {'name': 'coin_3', 'coordinates': [392, 380, 392, 380]}, {'name': 'coin_4', 'coordinates': [434, 252, 434, 252]}]}, {'filename': '29.jpg', 'width': 448, 'height': 448, 'objects': [{'name': 'coin_1', 'coordinates': [68, 291, 68, 291]}, {'name': 'coin_2', 'coordinates': [29, 195, 29, 195]}, {'name': 'coin_3', 'coordinates': [397, 305, 397, 305]}, {'name': 'coin_4', 'coordinates': [417, 266, 417, 266]}]}, {'filename': '40.jpg', 'width': 448, 'height': 448, 'objects': [{'name': 'coin_1', 'coordinates': [59, 259, 59, 259]}, {'name': 'coin_2', 'coordinates': [82, 397, 82, 397]}, {'name': 'coin_3', 'coordinates': [374, 243, 374, 243]}, {'name': 'coin_4', 'coordinates': [329, 402, 329, 402]}]}, {'filename': '34.jpg', 'width': 448, 'height': 448, 'objects': [{'name': 'coin_1', 'coordinates': [71, 325, 71, 325]}, {'name': 'coin_2', 'coordinates': [47, 264, 47, 264]}, {'name': 'coin_3', 'coordinates': [392, 332, 392, 332]}, {'name': 'coin_4', 'coordinates': [409, 290, 409, 290]}]}, {'filename': '39.jpg', 'width': 448, 'height': 448, 'objects': [{'name': 'coin_1', 'coordinates': [61, 260, 61, 260]}, {'name': 'coin_2', 'coordinates': [79, 396, 79, 396]}, {'name': 'coin_3', 'coordinates': [381, 245, 381, 245]}, {'name': 'coin_4', 'coordinates': [330, 404, 330, 404]}]}, {'filename': '4.jpg', 'width': 448, 'height': 448, 'objects': [{'name': 'coin_1', 'coordinates': [74, 62, 74, 62]}, {'name': 'coin_2', 'coordinates': [13, 264, 13, 264]}, {'name': 'coin_3', 'coordinates': [382, 92, 382, 92]}, {'name': 'coin_4', 'coordinates': [438, 239, 438, 239]}]}, {'filename': '27.jpg', 'width': 448, 'height': 448, 'objects': [{'name': 'coin_1', 'coordinates': [72, 330, 72, 330]}, {'name': 'coin_2', 'coordinates': [15, 181, 15, 181]}, {'name': 'coin_3', 'coordinates': [395, 349, 395, 349]}, {'name': 'coin_4', 'coordinates': [415, 303, 415, 303]}]}, {'filename': '30.jpg', 'width': 448, 'height': 448, 'objects': [{'name': 'coin_1', 'coordinates': [79, 364, 79, 364]}, {'name': 'coin_2', 'coordinates': [29, 247, 29, 247]}, {'name': 'coin_3', 'coordinates': [395, 352, 395, 352]}, {'name': 'coin_4', 'coordinates': [425, 283, 425, 283]}]}, {'filename': '36.jpg', 'width': 448, 'height': 448, 'objects': [{'name': 'coin_1', 'coordinates': [101, 293, 101, 293]}, {'name': 'coin_2', 'coordinates': [54, 231, 54, 231]}, {'name': 'coin_3', 'coordinates': [414, 277, 414, 277]}, {'name': 'coin_4', 'coordinates': [441, 207, 441, 207]}]}, {'filename': '20.jpg', 'width': 448, 'height': 448, 'objects': [{'name': 'coin_1', 'coordinates': [72, 243, 72, 243]}, {'name': 'coin_2', 'coordinates': [23, 149, 23, 149]}, {'name': 'coin_3', 'coordinates': [368, 238, 368, 238]}, {'name': 'coin_4', 'coordinates': [429, 126, 429, 126]}]}, {'filename': '28.jpg', 'width': 448, 'height': 448, 'objects': [{'name': 'coin_1', 'coordinates': [77, 264, 77, 264]}, {'name': 'coin_2', 'coordinates': [22, 151, 22, 151]}, {'name': 'coin_3', 'coordinates': [393, 263, 393, 263]}, {'name': 'coin_4', 'coordinates': [423, 200, 423, 200]}]}, {'filename': '33.jpg', 'width': 448, 'height': 448, 'objects': [{'name': 'coin_1', 'coordinates': [23, 297, 23, 297]}, {'name': 'coin_2', 'coordinates': [14, 253, 14, 253]}, {'name': 'coin_3', 'coordinates': [349, 375, 349, 375]}, {'name': 'coin_4', 'coordinates': [399, 333, 399, 333]}]}, {'filename': '38.jpg', 'width': 448, 'height': 448, 'objects': [{'name': 'coin_1', 'coordinates': [121, 178, 121, 178]}, {'name': 'coin_2', 'coordinates': [97, 131, 97, 131]}, {'name': 'coin_3', 'coordinates': [285, 182, 285, 182]}, {'name': 'coin_4', 'coordinates': [305, 141, 305, 141]}]}, {'filename': '21.jpg', 'width': 448, 'height': 448, 'objects': [{'name': 'coin_1', 'coordinates': [92, 311, 92, 311]}, {'name': 'coin_2', 'coordinates': [44, 247, 44, 247]}, {'name': 'coin_3', 'coordinates': [379, 302, 379, 302]}, {'name': 'coin_4', 'coordinates': [430, 225, 430, 225]}]}, {'filename': '25.jpg', 'width': 448, 'height': 448, 'objects': [{'name': 'coin_1', 'coordinates': [92, 128, 92, 128]}, {'name': 'coin_2', 'coordinates': [64, 296, 64, 296]}, {'name': 'coin_3', 'coordinates': [336, 120, 336, 120]}, {'name': 'coin_4', 'coordinates': [357, 253, 357, 253]}]}, {'filename': '26.jpg', 'width': 448, 'height': 448, 'objects': [{'name': 'coin_1', 'coordinates': [84, 290, 84, 290]}, {'name': 'coin_2', 'coordinates': [23, 166, 23, 166]}, {'name': 'coin_3', 'coordinates': [404, 311, 404, 311]}, {'name': 'coin_4', 'coordinates': [427, 269, 427, 269]}]}, {'filename': '37.jpg', 'width': 448, 'height': 448, 'objects': [{'name': 'coin_1', 'coordinates': [145, 130, 145, 130]}, {'name': 'coin_2', 'coordinates': [160, 77, 160, 77]}, {'name': 'coin_3', 'coordinates': [340, 149, 340, 149]}, {'name': 'coin_4', 'coordinates': [342, 78, 342, 78]}]}, {'filename': '41.jpg', 'width': 448, 'height': 448, 'objects': [{'name': 'coin_1', 'coordinates': [61, 261, 61, 261]}, {'name': 'coin_2', 'coordinates': [82, 397, 82, 397]}, {'name': 'coin_3', 'coordinates': [372, 246, 372, 246]}, {'name': 'coin_4', 'coordinates': [331, 388, 331, 388]}]}, {'filename': '35.jpg', 'width': 448, 'height': 448, 'objects': [{'name': 'coin_1', 'coordinates': [100, 292, 100, 292]}, {'name': 'coin_2', 'coordinates': [59, 231, 59, 231]}, {'name': 'coin_3', 'coordinates': [405, 291, 405, 291]}, {'name': 'coin_4', 'coordinates': [435, 214, 435, 214]}]}, {'filename': '31.jpg', 'width': 448, 'height': 448, 'objects': [{'name': 'coin_1', 'coordinates': [67, 306, 67, 306]}, {'name': 'coin_2', 'coordinates': [35, 226, 35, 226]}, {'name': 'coin_3', 'coordinates': [398, 301, 398, 301]}, {'name': 'coin_4', 'coordinates': [439, 180, 439, 180]}]}, {'filename': '3.jpg', 'width': 448, 'height': 448, 'objects': [{'name': 'coin_1', 'coordinates': [39, 138, 39, 138]}, {'name': 'coin_2', 'coordinates': [40, 70, 40, 70]}, {'name': 'coin_3', 'coordinates': [411, 154, 411, 154]}, {'name': 'coin_4', 'coordinates': [408, 82, 408, 82]}]}, {'filename': '23.jpg', 'width': 448, 'height': 448, 'objects': [{'name': 'coin_1', 'coordinates': [22, 325, 22, 325]}, {'name': 'coin_2', 'coordinates': [44, 182, 44, 182]}, {'name': 'coin_3', 'coordinates': [242, 409, 242, 409]}, {'name': 'coin_4', 'coordinates': [361, 309, 361, 309]}]}, {'filename': '22.jpg', 'width': 448, 'height': 448, 'objects': [{'name': 'coin_1', 'coordinates': [113, 265, 113, 265]}, {'name': 'coin_2', 'coordinates': [61, 138, 61, 138]}, {'name': 'coin_3', 'coordinates': [338, 258, 338, 258]}, {'name': 'coin_4', 'coordinates': [386, 139, 386, 139]}]}, {'filename': '32.jpg', 'width': 448, 'height': 448, 'objects': [{'name': 'coin_1', 'coordinates': [68, 309, 68, 309]}, {'name': 'coin_2', 'coordinates': [27, 220, 27, 220]}, {'name': 'coin_3', 'coordinates': [410, 293, 410, 293]}, {'name': 'coin_4', 'coordinates': [439, 193, 439, 193]}]}, {'filename': '42.jpg', 'width': 448, 'height': 448, 'objects': [{'name': 'coin_1', 'coordinates': [33, 266, 33, 266]}, {'name': 'coin_2', 'coordinates': [82, 415, 82, 415]}, {'name': 'coin_3', 'coordinates': [378, 243, 378, 243]}, {'name': 'coin_4', 'coordinates': [338, 395, 338, 395]}]}, {'filename': '43.jpg', 'width': 448, 'height': 448, 'objects': [{'name': 'coin_1', 'coordinates': [40, 133, 40, 133]}, {'name': 'coin_2', 'coordinates': [47, 60, 47, 60]}, {'name': 'coin_3', 'coordinates': [409, 122, 409, 122]}, {'name': 'coin_4', 'coordinates': [375, 53, 375, 53]}]}, {'filename': '9.jpg', 'width': 448, 'height': 448, 'objects': [{'name': 'coin_1', 'coordinates': [75, 319, 75, 319]}, {'name': 'coin_2', 'coordinates': [39, 216, 39, 216]}, {'name': 'coin_3', 'coordinates': [392, 265, 392, 265]}, {'name': 'coin_4', 'coordinates': [434, 161, 434, 161]}]}, {'filename': '7.jpg', 'width': 448, 'height': 448, 'objects': [{'name': 'coin_1', 'coordinates': [175, 271, 175, 271]}, {'name': 'coin_2', 'coordinates': [156, 160, 156, 160]}, {'name': 'coin_3', 'coordinates': [274, 233, 274, 233]}, {'name': 'coin_4', 'coordinates': [289, 158, 289, 158]}]}, {'filename': '44.jpg', 'width': 448, 'height': 448, 'objects': [{'name': 'coin_1', 'coordinates': [49, 141, 49, 141]}, {'name': 'coin_2', 'coordinates': [75, 80, 75, 80]}, {'name': 'coin_3', 'coordinates': [427, 143, 427, 143]}, {'name': 'coin_4', 'coordinates': [389, 82, 389, 82]}]}, {'filename': '6.jpg', 'width': 448, 'height': 448, 'objects': [{'name': 'coin_1', 'coordinates': [115, 111, 115, 111]}, {'name': 'coin_2', 'coordinates': [122, 53, 122, 53]}, {'name': 'coin_3', 'coordinates': [351, 108, 351, 108]}, {'name': 'coin_4', 'coordinates': [340, 69, 340, 69]}]}, {'filename': '47.jpg', 'width': 448, 'height': 448, 'objects': [{'name': 'coin_1', 'coordinates': [41, 131, 41, 131]}, {'name': 'coin_2', 'coordinates': [51, 62, 51, 62]}, {'name': 'coin_3', 'coordinates': [406, 121, 406, 121]}, {'name': 'coin_4', 'coordinates': [378, 58, 378, 58]}]}, {'filename': '45.jpg', 'width': 448, 'height': 448, 'objects': [{'name': 'coin_1', 'coordinates': [15, 190, 15, 190]}, {'name': 'coin_2', 'coordinates': [30, 106, 30, 106]}, {'name': 'coin_3', 'coordinates': [417, 161, 417, 161]}, {'name': 'coin_4', 'coordinates': [396, 99, 396, 99]}]}, {'filename': '5.jpg', 'width': 448, 'height': 448, 'objects': [{'name': 'coin_1', 'coordinates': [149, 299, 149, 299]}, {'name': 'coin_2', 'coordinates': [112, 230, 112, 230]}, {'name': 'coin_3', 'coordinates': [404, 263, 404, 263]}, {'name': 'coin_4', 'coordinates': [428, 162, 428, 162]}]}, {'filename': '8.jpg', 'width': 448, 'height': 448, 'objects': [{'name': 'coin_1', 'coordinates': [69, 323, 69, 323]}, {'name': 'coin_2', 'coordinates': [26, 203, 26, 203]}, {'name': 'coin_3', 'coordinates': [396, 259, 396, 259]}, {'name': 'coin_4', 'coordinates': [431, 153, 431, 153]}]}, {'filename': '46.jpg', 'width': 448, 'height': 448, 'objects': [{'name': 'coin_1', 'coordinates': [427, 137, 427, 137]}, {'name': 'coin_2', 'coordinates': [435, 65, 435, 65]}, {'name': 'coin_3', 'coordinates': [16, 163, 16, 163]}, {'name': 'coin_4', 'coordinates': [6, 141, 6, 141]}]}]\n"
     ]
    }
   ],
   "source": [
    "import os\n",
    "import xml.etree.ElementTree as ET\n",
    "\n",
    "def process_xml(xml_file):\n",
    "    try:\n",
    "        tree = ET.parse(xml_file)\n",
    "        root = tree.getroot()\n",
    "\n",
    "        # Extract image details\n",
    "        filename = root.find('filename').text\n",
    "        size = root.find('size')\n",
    "        width = int(size.find('width').text)\n",
    "        height = int(size.find('height').text)\n",
    "\n",
    "        image_info = {\n",
    "            'filename': filename,\n",
    "            'width': width,\n",
    "            'height': height,\n",
    "            'objects': []\n",
    "        }\n",
    "\n",
    "        for obj in root.iter('object'):\n",
    "            obj_dict = {}\n",
    "            obj_dict['name'] = obj.find('name').text\n",
    "            bbox = obj.find('bndbox')\n",
    "            obj_dict['coordinates'] = [int(bbox.find('xmin').text),\n",
    "                                       int(bbox.find('ymin').text),\n",
    "                                       int(bbox.find('xmax').text),\n",
    "                                       int(bbox.find('ymax').text)]\n",
    "            image_info['objects'].append(obj_dict)\n",
    "\n",
    "        return image_info\n",
    "\n",
    "    except ET.ParseError as e:\n",
    "        print(f\"Error parsing file {xml_file}: {e}\")\n",
    "        return None\n",
    "\n",
    "def process_all_xml(directory):\n",
    "    all_data = []\n",
    "    for file in os.listdir(directory):\n",
    "        if file.endswith('.xml'):\n",
    "            file_path = os.path.join(directory, file)\n",
    "            data = process_xml(file_path)\n",
    "            if data:\n",
    "                all_data.append(data)\n",
    "\n",
    "    return all_data\n",
    "\n",
    "# Example usage\n",
    "directory_path = '/content/drive/MyDrive/est/xml'\n",
    "all_data = process_all_xml(directory_path)\n",
    "print(all_data)\n"
   ]
  },
  {
   "cell_type": "code",
   "execution_count": null,
   "metadata": {
    "id": "yLrQO6GDE3ll"
   },
   "outputs": [],
   "source": [
    "# Exemple d'utilisation\n",
    "transformations = [{'type': 'flip_horizontal'},{'type': 'flip_vertical'},{'type': 'rotate', 'angle': 90}]\n",
    "chemin_repertoire_entree = '/content/drive/MyDrive/est/image/'\n",
    "chemin_repertoire_sortie = '/content/drive/MyDrive/est/da'\n"
   ]
  },
  {
   "cell_type": "code",
   "execution_count": null,
   "metadata": {
    "id": "VV4WDI2vDqbC"
   },
   "outputs": [],
   "source": [
    "import cv2\n",
    "import os\n",
    "\n",
    "def flip_horizontal(bbox, image_width):\n",
    "    x_min, y_min= bbox\n",
    "    return  [image_width - x_min, y_min]\n",
    "\n",
    "# Assumons que les fonctions de transformation sont définies ici\n",
    "\n",
    "def appliquer_transformations_et_enregistrer(all_data, repertoire_images, repertoire_sortie, transformations):\n",
    "    # Créer le répertoire de sortie s'il n'existe pas\n",
    "    if not os.path.exists(repertoire_sortie):\n",
    "        os.makedirs(repertoire_sortie)\n",
    "\n",
    "    for data in all_data:\n",
    "        nom_fichier_original = data['filename']\n",
    "        chemin_image = os.path.join(repertoire_images, nom_fichier_original)\n",
    "        image = cv2.imread(chemin_image)\n",
    "\n",
    "        if image is None:\n",
    "            print(f\"Impossible de lire l'image : {nom_fichier_original}\")\n",
    "            continue\n",
    "\n",
    "        # Appliquer les transformations à l'image\n",
    "        image_transformee = image\n",
    "        for transformation in transformations:\n",
    "            if transformation['type'] == 'flip_horizontal':\n",
    "                image_transformee = cv2.flip(image_transformee, 1)\n",
    "                sufixe = 'horizontal'\n",
    "            # Ajouter d'autres transformations ici\n",
    "\n",
    "        # Mettre à jour le nom de fichier dans all_data et sauvegarder l'image transformée\n",
    "        base_nom_fichier, ext_nom_fichier = os.path.splitext(nom_fichier_original)\n",
    "        nouveau_nom_fichier = f\"{base_nom_fichier}{sufixe}{ext_nom_fichier}\"\n",
    "        data['filename'] = nouveau_nom_fichier\n",
    "        cv2.imwrite(os.path.join(repertoire_sortie, nouveau_nom_fichier), image_transformee)\n",
    "\n",
    "        # Mettre à jour les coordonnées dans all_data\n",
    "        for obj in data['objects']:\n",
    "            bbox = obj['coordinates']\n",
    "            for transformation in transformations:\n",
    "                if transformation['type'] == 'flip_horizontal':\n",
    "                    bbox = flip_horizontal(bbox, image.shape[1])\n",
    "                # Ajouter d'autres mises à jour de transformation ici\n",
    "            obj['coordinates'] = bbox\n",
    "\n",
    "    return all_data\n",
    "\n",
    "\n",
    "\n",
    "\n"
   ]
  },
  {
   "cell_type": "code",
   "execution_count": null,
   "metadata": {
    "id": "gmX_6MvOFtmg"
   },
   "outputs": [],
   "source": [
    "all_data_transf = appliquer_transformations_et_enregistrer(all_data, chemin_repertoire_entree, chemin_repertoire_sortie, transformations)"
   ]
  },
  {
   "cell_type": "code",
   "execution_count": null,
   "metadata": {
    "id": "yOwdsso5HVbd"
   },
   "outputs": [],
   "source": [
    "import cv2\n",
    "import os\n",
    "\n",
    "def flip_vertical(bbox, image_height):\n",
    "    x_min, y_min= bbox\n",
    "    return  [x_min, image_height - y_min]\n",
    "\n",
    "# Assumons que les fonctions de transformation sont définies ici\n",
    "\n",
    "def appliquer_transformations(data, repertoire_images, repertoire_sortie, transformations):\n",
    "    # Créer le répertoire de sortie s'il n'existe pas\n",
    "    if not os.path.exists(repertoire_sortie):\n",
    "        os.makedirs(repertoire_sortie)\n",
    "\n",
    "    for data in all_data:\n",
    "        nom_fichier_original = data['filename']\n",
    "        chemin_image = os.path.join(repertoire_images, nom_fichier_original)\n",
    "        image = cv2.imread(chemin_image)\n",
    "\n",
    "        if image is None:\n",
    "            print(f\"Impossible de lire l'image : {nom_fichier_original}\")\n",
    "            continue\n",
    "\n",
    "        # Appliquer les transformations à l'image\n",
    "        image_transformee = image\n",
    "        for transformation in transformations:\n",
    "            if transformation['type'] == 'flip_vertical':\n",
    "                image_transformee = cv2.flip(image_transformee, 0)\n",
    "                sufixe = 'vertical'\n",
    "            # Ajouter d'autres transformations ici\n",
    "\n",
    "        # Mettre à jour le nom de fichier dans all_data et sauvegarder l'image transformée\n",
    "        base_nom_fichier, ext_nom_fichier = os.path.splitext(nom_fichier_original)\n",
    "        nouveau_nom_fichier = f\"{base_nom_fichier}{sufixe}{ext_nom_fichier}\"\n",
    "        data['filename'] = nouveau_nom_fichier\n",
    "        cv2.imwrite(os.path.join(repertoire_sortie, nouveau_nom_fichier), image_transformee)\n",
    "\n",
    "        # Mettre à jour les coordonnées dans all_data\n",
    "        for obj in data['objects']:\n",
    "            bbox = obj['coordinates']\n",
    "            for transformation in transformations:\n",
    "                if transformation['type'] == 'flip_vertical':\n",
    "                    bbox = flip_vertical(bbox, image.shape[1])\n",
    "                # Ajouter d'autres mises à jour de transformation ici\n",
    "            obj['coordinates'] = bbox\n",
    "\n",
    "    return all_data\n"
   ]
  },
  {
   "cell_type": "code",
   "execution_count": null,
   "metadata": {
    "id": "LvYnXHr6IRH1"
   },
   "outputs": [],
   "source": [
    "all_data_transf_ver = appliquer_transformations(all_data, chemin_repertoire_entree, chemin_repertoire_sortie, transformations)"
   ]
  },
  {
   "cell_type": "code",
   "execution_count": null,
   "metadata": {
    "id": "pjPf56keOjck"
   },
   "outputs": [],
   "source": []
  },
  {
   "cell_type": "code",
   "execution_count": null,
   "metadata": {
    "id": "hmfEDcJ71Wrh"
   },
   "outputs": [],
   "source": [
    "import math\n",
    "import numpy as np\n",
    "\n",
    "def rotate_bbox(bbox, angle_degrees, image_center):\n",
    "    x_min, y_min, x_max, y_max = bbox\n",
    "    corners = [(x_min, y_min), (x_max, y_min), (x_min, y_max), (x_max, y_max)]\n",
    "\n",
    "    angle_radians = math.radians(angle_degrees)\n",
    "    rotated_corners = [\n",
    "        (\n",
    "            math.cos(angle_radians) * (x - image_center[0]) - math.sin(angle_radians) * (y - image_center[1]) + image_center[0],\n",
    "            math.sin(angle_radians) * (x - image_center[0]) + math.cos(angle_radians) * (y - image_center[1]) + image_center[1]\n",
    "        )\n",
    "        for x, y in corners\n",
    "    ]\n",
    "\n",
    "    # Calculate the new bounding box from the rotated corners\n",
    "    xs, ys = zip(*rotated_corners)\n",
    "    new_x_min, new_x_max = min(xs), max(xs)\n",
    "    new_y_min, new_y_max = min(ys), max(ys)\n",
    "\n",
    "    return [int(new_x_min), int(new_y_min), int(new_x_max), int(new_y_max)]\n",
    "\n",
    "\n",
    "def rotate_image(image, angle):\n",
    "    # Load the image\n",
    "\n",
    "    if image is None:\n",
    "        print(f\"Error: Unable to load image at {image}\")\n",
    "        return\n",
    "\n",
    "    # Get the image dimensions\n",
    "    (h, w) = image.shape[:2]\n",
    "\n",
    "    # Calculate the center of the image\n",
    "    center = (w / 2, h / 2)\n",
    "\n",
    "    # Calculate the rotation matrix\n",
    "    M = cv2.getRotationMatrix2D(center, angle, 1.0)\n",
    "\n",
    "    # Perform the rotation\n",
    "    rotated = cv2.warpAffine(image, M, (w, h))\n",
    "    return rotated"
   ]
  },
  {
   "cell_type": "code",
   "execution_count": null,
   "metadata": {
    "id": "lKtIjVW41U40"
   },
   "outputs": [],
   "source": [
    "def appliquer_transformations(data, repertoire_images, repertoire_sortie, transformations):\n",
    "    if not os.path.exists(repertoire_sortie):\n",
    "        os.makedirs(repertoire_sortie)\n",
    "\n",
    "    for data in all_data:\n",
    "        nom_fichier_original = data['filename']\n",
    "        chemin_image = os.path.join(repertoire_images, nom_fichier_original)\n",
    "        image = cv2.imread(chemin_image)\n",
    "\n",
    "        if image is None:\n",
    "            print(f\"Impossible de lire l'image : {nom_fichier_original}\")\n",
    "            continue\n",
    "\n",
    "        image_center = (image.shape[1] // 2, image.shape[0] // 2)\n",
    "        suffixe = ''\n",
    "\n",
    "        for transformation in transformations:\n",
    "            if transformation['type'] == 'rotate':\n",
    "                angle = transformation.get('angle', 0)\n",
    "                image = rotate_image(image, angle)\n",
    "                suffixe += f'_rotate_{angle}'\n",
    "\n",
    "                # Update the bounding boxes\n",
    "                for obj in data['objects']:\n",
    "                    bbox = obj['coordinates']\n",
    "                    obj['coordinates'] = rotate_bbox(bbox, angle, image_center)\n",
    "\n",
    "        # Save the transformed image and update the filename\n",
    "        base_nom_fichier, ext_nom_fichier = os.path.splitext(nom_fichier_original)\n",
    "        nouveau_nom_fichier = f\"{base_nom_fichier}{suffixe}{ext_nom_fichier}\"\n",
    "        cv2.imwrite(os.path.join(repertoire_sortie, nouveau_nom_fichier), image)\n",
    "        data['filename'] = nouveau_nom_fichier\n",
    "\n",
    "    return all_data\n"
   ]
  },
  {
   "cell_type": "code",
   "execution_count": null,
   "metadata": {
    "id": "e31KelZ_2MvX"
   },
   "outputs": [],
   "source": [
    "all_data_transf_ro = appliquer_transformations(all_data, chemin_repertoire_entree, chemin_repertoire_sortie, transformations)"
   ]
  },
  {
   "cell_type": "code",
   "execution_count": null,
   "metadata": {
    "id": "w74_kUeQ_0W_"
   },
   "outputs": [],
   "source": [
    "for obj in data[\"objects\"]:\n",
    "    obj[\"coordinates\"] = obj[\"coordinates\"][:2]"
   ]
  },
  {
   "cell_type": "code",
   "execution_count": null,
   "metadata": {
    "id": "Be3Dd4wN82ZL"
   },
   "outputs": [],
   "source": [
    "import json\n",
    "with open('/content/drive/MyDrive/updated_image_data.json', 'r') as file:\n",
    "    data = json.load(file)\n"
   ]
  },
  {
   "cell_type": "code",
   "execution_count": null,
   "metadata": {
    "id": "rMmdCE-i9C3K"
   },
   "outputs": [],
   "source": [
    "all = data + all_data_transf_ro"
   ]
  },
  {
   "cell_type": "code",
   "execution_count": null,
   "metadata": {
    "id": "BfpgNDnnPZIc"
   },
   "outputs": [],
   "source": [
    "import json\n",
    "\n",
    "# Assuming 'data_list' has been modified\n",
    "with open('/content/drive/MyDrive/updated_image_data.json', 'w') as file:\n",
    "    json.dump(all, file, indent=4)\n",
    "\n",
    "\n"
   ]
  },
  {
   "cell_type": "code",
   "execution_count": null,
   "metadata": {
    "id": "04cfQOOO9Qu4"
   },
   "outputs": [],
   "source": [
    "import shutil\n",
    "import os\n",
    "\n",
    "# Define your directories\n",
    "folder1 = '/content/drive/MyDrive/est/da'\n",
    "folder2 = '/content/drive/MyDrive/est/dataset'\n",
    "target_folder = '/content/drive/MyDrive/est/data'\n",
    "\n",
    "# Create the target directory if it doesn't exist\n",
    "if not os.path.exists(target_folder):\n",
    "    os.makedirs(target_folder)\n",
    "\n",
    "# Function to copy images from a source folder to the target folder\n",
    "def copy_images(source_folder, target_folder):\n",
    "    for filename in os.listdir(source_folder):\n",
    "        if filename.lower().endswith(('.png', '.jpg', '.jpeg', '.bmp', '.gif', '.tiff')):\n",
    "            file_path = os.path.join(source_folder, filename)\n",
    "            shutil.copy(file_path, target_folder)\n",
    "\n",
    "# Copy images from both folders to the target folder\n",
    "copy_images(folder1, target_folder)\n",
    "copy_images(folder2, target_folder)\n"
   ]
  }
 ],
 "metadata": {
  "colab": {
   "provenance": []
  },
  "kernelspec": {
   "display_name": "Python 3 (ipykernel)",
   "language": "python",
   "name": "python3"
  },
  "language_info": {
   "codemirror_mode": {
    "name": "ipython",
    "version": 3
   },
   "file_extension": ".py",
   "mimetype": "text/x-python",
   "name": "python",
   "nbconvert_exporter": "python",
   "pygments_lexer": "ipython3",
   "version": "3.9.13"
  }
 },
 "nbformat": 4,
 "nbformat_minor": 1
}
